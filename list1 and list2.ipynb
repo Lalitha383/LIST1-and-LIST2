{
 "cells": [
  {
   "cell_type": "code",
   "execution_count": 1,
   "metadata": {},
   "outputs": [
    {
     "name": "stdout",
     "output_type": "stream",
     "text": [
      "Positive numbers in the list:  12 5 64\n"
     ]
    }
   ],
   "source": [
    "list1=[12,-7,5,64,-14]\n",
    "pos_nos=[num for num in list1 if num>=0]\n",
    "print(\"Positive numbers in the list: \",*pos_nos)\n"
   ]
  },
  {
   "cell_type": "code",
   "execution_count": 9,
   "metadata": {},
   "outputs": [
    {
     "name": "stdout",
     "output_type": "stream",
     "text": [
      "Positive numbers in the list:  [12, 14, 3]\n"
     ]
    }
   ],
   "source": [
    "list2=[12,14,-95,3]\n",
    "pos_nos=[num for num in list2 if num>=0]\n",
    "print(\"Positive numbers in the list: \",[*pos_nos])\n"
   ]
  }
 ],
 "metadata": {
  "kernelspec": {
   "display_name": "Python 3",
   "language": "python",
   "name": "python3"
  },
  "language_info": {
   "codemirror_mode": {
    "name": "ipython",
    "version": 3
   },
   "file_extension": ".py",
   "mimetype": "text/x-python",
   "name": "python",
   "nbconvert_exporter": "python",
   "pygments_lexer": "ipython3",
   "version": "3.7.6"
  }
 },
 "nbformat": 4,
 "nbformat_minor": 4
}
